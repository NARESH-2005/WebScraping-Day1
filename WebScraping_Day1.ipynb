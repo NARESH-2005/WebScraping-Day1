{
  "cells": [
    {
      "cell_type": "code",
      "execution_count": 2,
      "id": "714e577f-20e6-4a65-b4e1-17d08a897690",
      "metadata": {
        "colab": {
          "base_uri": "https://localhost:8080/"
        },
        "id": "714e577f-20e6-4a65-b4e1-17d08a897690",
        "outputId": "419d1942-75a5-4376-d67f-7777487bf31e"
      },
      "outputs": [
        {
          "output_type": "stream",
          "name": "stdout",
          "text": [
            "Collecting bs4\n",
            "  Downloading bs4-0.0.2-py2.py3-none-any.whl.metadata (411 bytes)\n",
            "Requirement already satisfied: beautifulsoup4 in /usr/local/lib/python3.11/dist-packages (from bs4) (4.12.3)\n",
            "Requirement already satisfied: soupsieve>1.2 in /usr/local/lib/python3.11/dist-packages (from beautifulsoup4->bs4) (2.6)\n",
            "Downloading bs4-0.0.2-py2.py3-none-any.whl (1.2 kB)\n",
            "Installing collected packages: bs4\n",
            "Successfully installed bs4-0.0.2\n"
          ]
        }
      ],
      "source": [
        "!pip install bs4"
      ]
    },
    {
      "cell_type": "code",
      "execution_count": 1,
      "id": "d04f8e16-ca59-4d04-ab30-840301185566",
      "metadata": {
        "id": "d04f8e16-ca59-4d04-ab30-840301185566"
      },
      "outputs": [],
      "source": [
        "from bs4 import BeautifulSoup\n",
        "html_doc=\"\"\"\n",
        "<html>\n",
        "<title>Web Scraping</title>\n",
        "<body><h2>Hello World</h2>\n",
        "<p class=\"content\">This is a paragraph</p>\n",
        "<p class=\"content\">This is a Good</p>\n",
        "<div id=\"container\">\n",
        "<ul>\n",
        "<li class=\"item\">Item 1</li>\n",
        "<li class=\"item\">Item 2</li>\n",
        "<li class=\"item\">Item 3</li>\n",
        "</ul>\n",
        "</div>\n",
        "<table>\n",
        "<tr><th>Name</th><th>Age</th></tr>\n",
        "<tr><td>Jhushiketh</td><td>18</td></tr>\n",
        "<tr><td>Aakash</td><td>21</td></tr>\n",
        "</table>\n",
        "</body>\n",
        "</html>\"\"\""
      ]
    },
    {
      "cell_type": "code",
      "execution_count": 3,
      "id": "ca9bb442-f38e-4a95-8bdd-a215ee53d751",
      "metadata": {
        "colab": {
          "base_uri": "https://localhost:8080/"
        },
        "id": "ca9bb442-f38e-4a95-8bdd-a215ee53d751",
        "outputId": "38c00e6b-4bd3-4cef-f6d5-00320dbab692"
      },
      "outputs": [
        {
          "output_type": "stream",
          "name": "stdout",
          "text": [
            "\n",
            "<html>\n",
            "<title>Web Scraping</title>\n",
            "<body><h2>Hello World</h2>\n",
            "<p class=\"content\">This is a paragraph</p>\n",
            "<p class=\"content\">This is a Good</p>\n",
            "<div id=\"container\">\n",
            "<ul>\n",
            "<li class=\"item\">Item 1</li>\n",
            "<li class=\"item\">Item 2</li>\n",
            "<li class=\"item\">Item 3</li>\n",
            "</ul>\n",
            "</div>\n",
            "<table>\n",
            "<tr><th>Name</th><th>Age</th></tr>\n",
            "<tr><td>Jhushiketh</td><td>18</td></tr>\n",
            "<tr><td>Aakash</td><td>21</td></tr>\n",
            "</table>\n",
            "</body>\n",
            "</html>\n"
          ]
        }
      ],
      "source": [
        "soup=BeautifulSoup(html_doc,\"html.parser\")\n",
        "print(soup)"
      ]
    },
    {
      "cell_type": "code",
      "execution_count": 4,
      "id": "dcb69903-598f-4603-8d0f-b310dea9fbd2",
      "metadata": {
        "colab": {
          "base_uri": "https://localhost:8080/"
        },
        "id": "dcb69903-598f-4603-8d0f-b310dea9fbd2",
        "outputId": "c227b0b1-060d-4f57-bb89-6fb3c9653ee5"
      },
      "outputs": [
        {
          "output_type": "stream",
          "name": "stdout",
          "text": [
            "\n",
            " Find the firrst paragraph: This is a paragraph\n",
            "\n",
            " Find the firrst paragraph: [<p class=\"content\">This is a paragraph</p>, <p class=\"content\">This is a Good</p>]\n",
            "['This is a paragraph', 'This is a Good']\n"
          ]
        }
      ],
      "source": [
        "#***Findinf Elements****\n",
        "print(\"\\n Find the firrst paragraph:\",(soup.find(\"p\").text)) #First <p> tag\n",
        "print(\"\\n Find the firrst paragraph:\",soup.find_all(\"p\"))  #Finding all Tag\n",
        "x=[]\n",
        "for i in soup.find_all(\"p\"):\n",
        "    x.append(i.text)\n",
        "print(x)"
      ]
    },
    {
      "cell_type": "code",
      "execution_count": 5,
      "id": "340231df-ddd9-4de5-b0e6-be3594e1ae26",
      "metadata": {
        "colab": {
          "base_uri": "https://localhost:8080/"
        },
        "id": "340231df-ddd9-4de5-b0e6-be3594e1ae26",
        "outputId": "41052c23-33f0-4b5e-c2b9-4ea551fe19ac"
      },
      "outputs": [
        {
          "output_type": "stream",
          "name": "stdout",
          "text": [
            "\n",
            "Using CSS Selection:\n",
            "This is a paragraph\n",
            "This is a Good\n",
            "\n",
            "\n",
            "Item 1\n",
            "Item 2\n",
            "Item 3\n",
            "\n",
            "\n",
            "Item 2\n"
          ]
        }
      ],
      "source": [
        "#***Using CSS Select ***\n",
        "print(\"\\nUsing CSS Selection:\")\n",
        "print(soup.select(\"p\")[0].text) #select by tag\n",
        "print(soup.select(\".content\")[1].text) #Select by class\n",
        "print(soup.select(\"#container\")[0].text) #Select  All item in <ul>\n",
        "print(soup.select(\"#container ul li\")[1].text) #Select Second list item in <ul>"
      ]
    },
    {
      "cell_type": "code",
      "execution_count": 6,
      "id": "443a275b-5cfe-45a3-a77b-01ea1d49371e",
      "metadata": {
        "colab": {
          "base_uri": "https://localhost:8080/"
        },
        "id": "443a275b-5cfe-45a3-a77b-01ea1d49371e",
        "outputId": "d7581190-ed9c-4208-9352-388f3b7a9b12"
      },
      "outputs": [
        {
          "output_type": "stream",
          "name": "stdout",
          "text": [
            "<table>\n",
            "<tr><th>Name</th><th>Age</th></tr>\n",
            "<tr><td>Jhushiketh</td><td>18</td></tr>\n",
            "<tr><td>Aakash</td><td>21</td></tr>\n",
            "</table>\n"
          ]
        }
      ],
      "source": [
        "x=soup.find(\"table\")\n",
        "print(x)"
      ]
    },
    {
      "cell_type": "code",
      "execution_count": 7,
      "id": "359408ce-7e27-4691-8688-9c68b9ce496b",
      "metadata": {
        "colab": {
          "base_uri": "https://localhost:8080/"
        },
        "id": "359408ce-7e27-4691-8688-9c68b9ce496b",
        "outputId": "7fbb5767-53e8-4ebb-8e1f-4061a295a9bf"
      },
      "outputs": [
        {
          "output_type": "stream",
          "name": "stdout",
          "text": [
            "[<tr><th>Name</th><th>Age</th></tr>, <tr><td>Jhushiketh</td><td>18</td></tr>, <tr><td>Aakash</td><td>21</td></tr>]\n"
          ]
        }
      ],
      "source": [
        "y=x.find_all(\"tr\")\n",
        "print(y)"
      ]
    },
    {
      "cell_type": "code",
      "execution_count": 8,
      "id": "b9410b0c-875c-4bb2-b9ce-ab312b3029c6",
      "metadata": {
        "colab": {
          "base_uri": "https://localhost:8080/"
        },
        "id": "b9410b0c-875c-4bb2-b9ce-ab312b3029c6",
        "outputId": "51c1147f-3892-46a4-8c3c-170ea198ea00"
      },
      "outputs": [
        {
          "output_type": "stream",
          "name": "stdout",
          "text": [
            "[<th>Name</th>, <th>Age</th>]\n"
          ]
        }
      ],
      "source": [
        "for i in y:\n",
        "    a=i.find_all(\"th\")\n",
        "    print(a)\n",
        "    break"
      ]
    },
    {
      "cell_type": "code",
      "execution_count": 9,
      "id": "5f60cbe1-b683-4e37-af79-ef84e253bf20",
      "metadata": {
        "colab": {
          "base_uri": "https://localhost:8080/"
        },
        "id": "5f60cbe1-b683-4e37-af79-ef84e253bf20",
        "outputId": "efe66482-aa3f-4be3-9210-034973242031"
      },
      "outputs": [
        {
          "output_type": "stream",
          "name": "stdout",
          "text": [
            "['Name', 'Age']\n"
          ]
        }
      ],
      "source": [
        "for i in y:\n",
        "    a=i.find_all(\"th\")\n",
        "    b=[]\n",
        "    \"\"\"for j in a:\n",
        "        b.append(j.text)\"\"\"\n",
        "    b=[j.text for j in a]\n",
        "    break\n",
        "print(b)"
      ]
    },
    {
      "cell_type": "code",
      "execution_count": 10,
      "id": "08d7afbd-8d08-4d5b-b7d0-9fde8d7811aa",
      "metadata": {
        "colab": {
          "base_uri": "https://localhost:8080/"
        },
        "id": "08d7afbd-8d08-4d5b-b7d0-9fde8d7811aa",
        "outputId": "937759a6-d42f-453c-ac65-b78b9f2d8e5c"
      },
      "outputs": [
        {
          "output_type": "stream",
          "name": "stdout",
          "text": [
            "[]\n",
            "['Jhushiketh', '18']\n",
            "['Aakash', '21']\n"
          ]
        }
      ],
      "source": [
        "for k in y:\n",
        "    c= k. find_all(\"td\")\n",
        "    #print(c)\n",
        "    d=[]\n",
        "    for m in c:\n",
        "        d.append(m.text)\n",
        "    print(d)"
      ]
    },
    {
      "cell_type": "code",
      "execution_count": 11,
      "id": "6ff99688-e6cc-4ba3-b1f3-be7822872e03",
      "metadata": {
        "colab": {
          "base_uri": "https://localhost:8080/"
        },
        "id": "6ff99688-e6cc-4ba3-b1f3-be7822872e03",
        "outputId": "6ea0bcc7-be8d-47ae-86e4-9af26cb33f83"
      },
      "outputs": [
        {
          "output_type": "stream",
          "name": "stdout",
          "text": [
            "[[]]\n",
            "[[], ['Jhushiketh', '18']]\n",
            "[[], ['Jhushiketh', '18'], ['Aakash', '21']]\n"
          ]
        }
      ],
      "source": [
        "D=[]\n",
        "for k in y:\n",
        "    c= k. find_all(\"td\")\n",
        "    d= []\n",
        "    #print(c)\n",
        "    d=[]\n",
        "    for m in c:\n",
        "        d.append(m.text)\n",
        "    D.append(d)\n",
        "    print(D)"
      ]
    },
    {
      "cell_type": "code",
      "execution_count": 12,
      "id": "637045fc-9a85-4b5e-bd9d-38c6e67a72e4",
      "metadata": {
        "id": "637045fc-9a85-4b5e-bd9d-38c6e67a72e4"
      },
      "outputs": [],
      "source": [
        "Dic ={'Name':['A','B','C','D'],'Marks':[9,8,7,9]}\n"
      ]
    },
    {
      "cell_type": "code",
      "execution_count": 13,
      "id": "903e0ba7-3de5-48bd-9e77-85b5587a697c",
      "metadata": {
        "colab": {
          "base_uri": "https://localhost:8080/",
          "height": 175
        },
        "id": "903e0ba7-3de5-48bd-9e77-85b5587a697c",
        "outputId": "69f20e1e-253e-40a1-c2ea-dd09aa8144a2"
      },
      "outputs": [
        {
          "output_type": "execute_result",
          "data": {
            "text/plain": [
              "  Name  Marks\n",
              "0    A      9\n",
              "1    B      8\n",
              "2    C      7\n",
              "3    D      9"
            ],
            "text/html": [
              "\n",
              "  <div id=\"df-1d489142-4101-4c92-8a0c-97caec21dc5f\" class=\"colab-df-container\">\n",
              "    <div>\n",
              "<style scoped>\n",
              "    .dataframe tbody tr th:only-of-type {\n",
              "        vertical-align: middle;\n",
              "    }\n",
              "\n",
              "    .dataframe tbody tr th {\n",
              "        vertical-align: top;\n",
              "    }\n",
              "\n",
              "    .dataframe thead th {\n",
              "        text-align: right;\n",
              "    }\n",
              "</style>\n",
              "<table border=\"1\" class=\"dataframe\">\n",
              "  <thead>\n",
              "    <tr style=\"text-align: right;\">\n",
              "      <th></th>\n",
              "      <th>Name</th>\n",
              "      <th>Marks</th>\n",
              "    </tr>\n",
              "  </thead>\n",
              "  <tbody>\n",
              "    <tr>\n",
              "      <th>0</th>\n",
              "      <td>A</td>\n",
              "      <td>9</td>\n",
              "    </tr>\n",
              "    <tr>\n",
              "      <th>1</th>\n",
              "      <td>B</td>\n",
              "      <td>8</td>\n",
              "    </tr>\n",
              "    <tr>\n",
              "      <th>2</th>\n",
              "      <td>C</td>\n",
              "      <td>7</td>\n",
              "    </tr>\n",
              "    <tr>\n",
              "      <th>3</th>\n",
              "      <td>D</td>\n",
              "      <td>9</td>\n",
              "    </tr>\n",
              "  </tbody>\n",
              "</table>\n",
              "</div>\n",
              "    <div class=\"colab-df-buttons\">\n",
              "\n",
              "  <div class=\"colab-df-container\">\n",
              "    <button class=\"colab-df-convert\" onclick=\"convertToInteractive('df-1d489142-4101-4c92-8a0c-97caec21dc5f')\"\n",
              "            title=\"Convert this dataframe to an interactive table.\"\n",
              "            style=\"display:none;\">\n",
              "\n",
              "  <svg xmlns=\"http://www.w3.org/2000/svg\" height=\"24px\" viewBox=\"0 -960 960 960\">\n",
              "    <path d=\"M120-120v-720h720v720H120Zm60-500h600v-160H180v160Zm220 220h160v-160H400v160Zm0 220h160v-160H400v160ZM180-400h160v-160H180v160Zm440 0h160v-160H620v160ZM180-180h160v-160H180v160Zm440 0h160v-160H620v160Z\"/>\n",
              "  </svg>\n",
              "    </button>\n",
              "\n",
              "  <style>\n",
              "    .colab-df-container {\n",
              "      display:flex;\n",
              "      gap: 12px;\n",
              "    }\n",
              "\n",
              "    .colab-df-convert {\n",
              "      background-color: #E8F0FE;\n",
              "      border: none;\n",
              "      border-radius: 50%;\n",
              "      cursor: pointer;\n",
              "      display: none;\n",
              "      fill: #1967D2;\n",
              "      height: 32px;\n",
              "      padding: 0 0 0 0;\n",
              "      width: 32px;\n",
              "    }\n",
              "\n",
              "    .colab-df-convert:hover {\n",
              "      background-color: #E2EBFA;\n",
              "      box-shadow: 0px 1px 2px rgba(60, 64, 67, 0.3), 0px 1px 3px 1px rgba(60, 64, 67, 0.15);\n",
              "      fill: #174EA6;\n",
              "    }\n",
              "\n",
              "    .colab-df-buttons div {\n",
              "      margin-bottom: 4px;\n",
              "    }\n",
              "\n",
              "    [theme=dark] .colab-df-convert {\n",
              "      background-color: #3B4455;\n",
              "      fill: #D2E3FC;\n",
              "    }\n",
              "\n",
              "    [theme=dark] .colab-df-convert:hover {\n",
              "      background-color: #434B5C;\n",
              "      box-shadow: 0px 1px 3px 1px rgba(0, 0, 0, 0.15);\n",
              "      filter: drop-shadow(0px 1px 2px rgba(0, 0, 0, 0.3));\n",
              "      fill: #FFFFFF;\n",
              "    }\n",
              "  </style>\n",
              "\n",
              "    <script>\n",
              "      const buttonEl =\n",
              "        document.querySelector('#df-1d489142-4101-4c92-8a0c-97caec21dc5f button.colab-df-convert');\n",
              "      buttonEl.style.display =\n",
              "        google.colab.kernel.accessAllowed ? 'block' : 'none';\n",
              "\n",
              "      async function convertToInteractive(key) {\n",
              "        const element = document.querySelector('#df-1d489142-4101-4c92-8a0c-97caec21dc5f');\n",
              "        const dataTable =\n",
              "          await google.colab.kernel.invokeFunction('convertToInteractive',\n",
              "                                                    [key], {});\n",
              "        if (!dataTable) return;\n",
              "\n",
              "        const docLinkHtml = 'Like what you see? Visit the ' +\n",
              "          '<a target=\"_blank\" href=https://colab.research.google.com/notebooks/data_table.ipynb>data table notebook</a>'\n",
              "          + ' to learn more about interactive tables.';\n",
              "        element.innerHTML = '';\n",
              "        dataTable['output_type'] = 'display_data';\n",
              "        await google.colab.output.renderOutput(dataTable, element);\n",
              "        const docLink = document.createElement('div');\n",
              "        docLink.innerHTML = docLinkHtml;\n",
              "        element.appendChild(docLink);\n",
              "      }\n",
              "    </script>\n",
              "  </div>\n",
              "\n",
              "\n",
              "<div id=\"df-8e3aa7a4-1775-4768-9053-d4a2a7a5dd6d\">\n",
              "  <button class=\"colab-df-quickchart\" onclick=\"quickchart('df-8e3aa7a4-1775-4768-9053-d4a2a7a5dd6d')\"\n",
              "            title=\"Suggest charts\"\n",
              "            style=\"display:none;\">\n",
              "\n",
              "<svg xmlns=\"http://www.w3.org/2000/svg\" height=\"24px\"viewBox=\"0 0 24 24\"\n",
              "     width=\"24px\">\n",
              "    <g>\n",
              "        <path d=\"M19 3H5c-1.1 0-2 .9-2 2v14c0 1.1.9 2 2 2h14c1.1 0 2-.9 2-2V5c0-1.1-.9-2-2-2zM9 17H7v-7h2v7zm4 0h-2V7h2v10zm4 0h-2v-4h2v4z\"/>\n",
              "    </g>\n",
              "</svg>\n",
              "  </button>\n",
              "\n",
              "<style>\n",
              "  .colab-df-quickchart {\n",
              "      --bg-color: #E8F0FE;\n",
              "      --fill-color: #1967D2;\n",
              "      --hover-bg-color: #E2EBFA;\n",
              "      --hover-fill-color: #174EA6;\n",
              "      --disabled-fill-color: #AAA;\n",
              "      --disabled-bg-color: #DDD;\n",
              "  }\n",
              "\n",
              "  [theme=dark] .colab-df-quickchart {\n",
              "      --bg-color: #3B4455;\n",
              "      --fill-color: #D2E3FC;\n",
              "      --hover-bg-color: #434B5C;\n",
              "      --hover-fill-color: #FFFFFF;\n",
              "      --disabled-bg-color: #3B4455;\n",
              "      --disabled-fill-color: #666;\n",
              "  }\n",
              "\n",
              "  .colab-df-quickchart {\n",
              "    background-color: var(--bg-color);\n",
              "    border: none;\n",
              "    border-radius: 50%;\n",
              "    cursor: pointer;\n",
              "    display: none;\n",
              "    fill: var(--fill-color);\n",
              "    height: 32px;\n",
              "    padding: 0;\n",
              "    width: 32px;\n",
              "  }\n",
              "\n",
              "  .colab-df-quickchart:hover {\n",
              "    background-color: var(--hover-bg-color);\n",
              "    box-shadow: 0 1px 2px rgba(60, 64, 67, 0.3), 0 1px 3px 1px rgba(60, 64, 67, 0.15);\n",
              "    fill: var(--button-hover-fill-color);\n",
              "  }\n",
              "\n",
              "  .colab-df-quickchart-complete:disabled,\n",
              "  .colab-df-quickchart-complete:disabled:hover {\n",
              "    background-color: var(--disabled-bg-color);\n",
              "    fill: var(--disabled-fill-color);\n",
              "    box-shadow: none;\n",
              "  }\n",
              "\n",
              "  .colab-df-spinner {\n",
              "    border: 2px solid var(--fill-color);\n",
              "    border-color: transparent;\n",
              "    border-bottom-color: var(--fill-color);\n",
              "    animation:\n",
              "      spin 1s steps(1) infinite;\n",
              "  }\n",
              "\n",
              "  @keyframes spin {\n",
              "    0% {\n",
              "      border-color: transparent;\n",
              "      border-bottom-color: var(--fill-color);\n",
              "      border-left-color: var(--fill-color);\n",
              "    }\n",
              "    20% {\n",
              "      border-color: transparent;\n",
              "      border-left-color: var(--fill-color);\n",
              "      border-top-color: var(--fill-color);\n",
              "    }\n",
              "    30% {\n",
              "      border-color: transparent;\n",
              "      border-left-color: var(--fill-color);\n",
              "      border-top-color: var(--fill-color);\n",
              "      border-right-color: var(--fill-color);\n",
              "    }\n",
              "    40% {\n",
              "      border-color: transparent;\n",
              "      border-right-color: var(--fill-color);\n",
              "      border-top-color: var(--fill-color);\n",
              "    }\n",
              "    60% {\n",
              "      border-color: transparent;\n",
              "      border-right-color: var(--fill-color);\n",
              "    }\n",
              "    80% {\n",
              "      border-color: transparent;\n",
              "      border-right-color: var(--fill-color);\n",
              "      border-bottom-color: var(--fill-color);\n",
              "    }\n",
              "    90% {\n",
              "      border-color: transparent;\n",
              "      border-bottom-color: var(--fill-color);\n",
              "    }\n",
              "  }\n",
              "</style>\n",
              "\n",
              "  <script>\n",
              "    async function quickchart(key) {\n",
              "      const quickchartButtonEl =\n",
              "        document.querySelector('#' + key + ' button');\n",
              "      quickchartButtonEl.disabled = true;  // To prevent multiple clicks.\n",
              "      quickchartButtonEl.classList.add('colab-df-spinner');\n",
              "      try {\n",
              "        const charts = await google.colab.kernel.invokeFunction(\n",
              "            'suggestCharts', [key], {});\n",
              "      } catch (error) {\n",
              "        console.error('Error during call to suggestCharts:', error);\n",
              "      }\n",
              "      quickchartButtonEl.classList.remove('colab-df-spinner');\n",
              "      quickchartButtonEl.classList.add('colab-df-quickchart-complete');\n",
              "    }\n",
              "    (() => {\n",
              "      let quickchartButtonEl =\n",
              "        document.querySelector('#df-8e3aa7a4-1775-4768-9053-d4a2a7a5dd6d button');\n",
              "      quickchartButtonEl.style.display =\n",
              "        google.colab.kernel.accessAllowed ? 'block' : 'none';\n",
              "    })();\n",
              "  </script>\n",
              "</div>\n",
              "\n",
              "  <div id=\"id_4a15fe90-ae3e-40cb-a631-fabadb384fdf\">\n",
              "    <style>\n",
              "      .colab-df-generate {\n",
              "        background-color: #E8F0FE;\n",
              "        border: none;\n",
              "        border-radius: 50%;\n",
              "        cursor: pointer;\n",
              "        display: none;\n",
              "        fill: #1967D2;\n",
              "        height: 32px;\n",
              "        padding: 0 0 0 0;\n",
              "        width: 32px;\n",
              "      }\n",
              "\n",
              "      .colab-df-generate:hover {\n",
              "        background-color: #E2EBFA;\n",
              "        box-shadow: 0px 1px 2px rgba(60, 64, 67, 0.3), 0px 1px 3px 1px rgba(60, 64, 67, 0.15);\n",
              "        fill: #174EA6;\n",
              "      }\n",
              "\n",
              "      [theme=dark] .colab-df-generate {\n",
              "        background-color: #3B4455;\n",
              "        fill: #D2E3FC;\n",
              "      }\n",
              "\n",
              "      [theme=dark] .colab-df-generate:hover {\n",
              "        background-color: #434B5C;\n",
              "        box-shadow: 0px 1px 3px 1px rgba(0, 0, 0, 0.15);\n",
              "        filter: drop-shadow(0px 1px 2px rgba(0, 0, 0, 0.3));\n",
              "        fill: #FFFFFF;\n",
              "      }\n",
              "    </style>\n",
              "    <button class=\"colab-df-generate\" onclick=\"generateWithVariable('df')\"\n",
              "            title=\"Generate code using this dataframe.\"\n",
              "            style=\"display:none;\">\n",
              "\n",
              "  <svg xmlns=\"http://www.w3.org/2000/svg\" height=\"24px\"viewBox=\"0 0 24 24\"\n",
              "       width=\"24px\">\n",
              "    <path d=\"M7,19H8.4L18.45,9,17,7.55,7,17.6ZM5,21V16.75L18.45,3.32a2,2,0,0,1,2.83,0l1.4,1.43a1.91,1.91,0,0,1,.58,1.4,1.91,1.91,0,0,1-.58,1.4L9.25,21ZM18.45,9,17,7.55Zm-12,3A5.31,5.31,0,0,0,4.9,8.1,5.31,5.31,0,0,0,1,6.5,5.31,5.31,0,0,0,4.9,4.9,5.31,5.31,0,0,0,6.5,1,5.31,5.31,0,0,0,8.1,4.9,5.31,5.31,0,0,0,12,6.5,5.46,5.46,0,0,0,6.5,12Z\"/>\n",
              "  </svg>\n",
              "    </button>\n",
              "    <script>\n",
              "      (() => {\n",
              "      const buttonEl =\n",
              "        document.querySelector('#id_4a15fe90-ae3e-40cb-a631-fabadb384fdf button.colab-df-generate');\n",
              "      buttonEl.style.display =\n",
              "        google.colab.kernel.accessAllowed ? 'block' : 'none';\n",
              "\n",
              "      buttonEl.onclick = () => {\n",
              "        google.colab.notebook.generateWithVariable('df');\n",
              "      }\n",
              "      })();\n",
              "    </script>\n",
              "  </div>\n",
              "\n",
              "    </div>\n",
              "  </div>\n"
            ],
            "application/vnd.google.colaboratory.intrinsic+json": {
              "type": "dataframe",
              "variable_name": "df",
              "summary": "{\n  \"name\": \"df\",\n  \"rows\": 4,\n  \"fields\": [\n    {\n      \"column\": \"Name\",\n      \"properties\": {\n        \"dtype\": \"string\",\n        \"num_unique_values\": 4,\n        \"samples\": [\n          \"B\",\n          \"D\",\n          \"A\"\n        ],\n        \"semantic_type\": \"\",\n        \"description\": \"\"\n      }\n    },\n    {\n      \"column\": \"Marks\",\n      \"properties\": {\n        \"dtype\": \"number\",\n        \"std\": 0,\n        \"min\": 7,\n        \"max\": 9,\n        \"num_unique_values\": 3,\n        \"samples\": [\n          9,\n          8,\n          7\n        ],\n        \"semantic_type\": \"\",\n        \"description\": \"\"\n      }\n    }\n  ]\n}"
            }
          },
          "metadata": {},
          "execution_count": 13
        }
      ],
      "source": [
        "import pandas as pd\n",
        "df=pd.DataFrame(Dic)\n",
        "df"
      ]
    },
    {
      "cell_type": "code",
      "execution_count": 14,
      "id": "fb57abe2-3665-492f-8d8a-600ce0e0aa3d",
      "metadata": {
        "id": "fb57abe2-3665-492f-8d8a-600ce0e0aa3d"
      },
      "outputs": [],
      "source": [
        "df.to_csv('agedata.csv')"
      ]
    },
    {
      "cell_type": "code",
      "execution_count": 14,
      "id": "5b73f91b-3cac-47f9-af81-8f4958fb8c98",
      "metadata": {
        "id": "5b73f91b-3cac-47f9-af81-8f4958fb8c98"
      },
      "outputs": [],
      "source": []
    }
  ],
  "metadata": {
    "kernelspec": {
      "display_name": "Python 3 (ipykernel)",
      "language": "python",
      "name": "python3"
    },
    "language_info": {
      "codemirror_mode": {
        "name": "ipython",
        "version": 3
      },
      "file_extension": ".py",
      "mimetype": "text/x-python",
      "name": "python",
      "nbconvert_exporter": "python",
      "pygments_lexer": "ipython3",
      "version": "3.13.0"
    },
    "colab": {
      "provenance": []
    }
  },
  "nbformat": 4,
  "nbformat_minor": 5
}
